{
  "nbformat": 4,
  "nbformat_minor": 0,
  "metadata": {
    "colab": {
      "name": "al-ml-chatbotipynb",
      "provenance": []
    },
    "kernelspec": {
      "name": "python3",
      "display_name": "Python 3"
    }
  },
  "cells": [
    {
      "cell_type": "code",
      "metadata": {
        "id": "fpJ7hyfF7WMg",
        "colab_type": "code",
        "colab": {}
      },
      "source": [
        "import nltk\n",
        "from nltk.stem.lancaster import LancasterStemmer\n",
        "stemmer = LancasterStemmer()\n",
        "\n",
        "import numpy\n",
        "import tflearn\n",
        "import tensorflow\n",
        "import random\n",
        "import json\n",
        "import pickle\n",
        "\n",
        "with open(\"/content/sample_data/intents.json\") as file:\n",
        "    data = json.load(file)"
      ],
      "execution_count": null,
      "outputs": []
    },
    {
      "cell_type": "markdown",
      "metadata": {
        "id": "IosshziHUCmW",
        "colab_type": "text"
      },
      "source": [
        "skip the below step if it's loaded already"
      ]
    },
    {
      "cell_type": "code",
      "metadata": {
        "id": "3IB6jel_Sy7Q",
        "colab_type": "code",
        "colab": {}
      },
      "source": [
        "    words = []\n",
        "    labels = []\n",
        "    docs_x = []\n",
        "    docs_y = []\n",
        "\n",
        "    for intent in data[\"intents\"]:\n",
        "        for pattern in intent[\"patterns\"]:\n",
        "            wrds = nltk.word_tokenize(pattern)\n",
        "            words.extend(wrds)\n",
        "            docs_x.append(wrds)\n",
        "            docs_y.append(intent[\"tag\"])\n",
        "\n",
        "        if intent[\"tag\"] not in labels:\n",
        "            labels.append(intent[\"tag\"])\n",
        "\n",
        "    words = [stemmer.stem(w.lower()) for w in words if w != \"?\"]\n",
        "    words = sorted(list(set(words)))\n",
        "\n",
        "    labels = sorted(labels)\n",
        "\n",
        "    training = []\n",
        "    output = []\n",
        "\n",
        "    out_empty = [0 for _ in range(len(labels))]\n",
        "\n",
        "    for x, doc in enumerate(docs_x):\n",
        "        bag = []\n",
        "\n",
        "        wrds = [stemmer.stem(w.lower()) for w in doc]\n",
        "\n",
        "        for w in words:\n",
        "            if w in wrds:\n",
        "                bag.append(1)\n",
        "            else:\n",
        "                bag.append(0)\n",
        "\n",
        "        output_row = out_empty[:]\n",
        "        output_row[labels.index(docs_y[x])] = 1\n",
        "\n",
        "        training.append(bag)\n",
        "        output.append(output_row)\n",
        "\n",
        "\n",
        "    training = numpy.array(training)\n",
        "    output = numpy.array(output)\n",
        "\n",
        "    with open(\"data.pickle\", \"wb\") as f:\n",
        "        pickle.dump((words, labels, training, output), f)\n"
      ],
      "execution_count": null,
      "outputs": []
    },
    {
      "cell_type": "markdown",
      "metadata": {
        "id": "1XtQhcnsUHuY",
        "colab_type": "text"
      },
      "source": [
        "use the below code it it's loaded already to avoid training again"
      ]
    },
    {
      "cell_type": "code",
      "metadata": {
        "id": "Go_l2UdATSbt",
        "colab_type": "code",
        "colab": {}
      },
      "source": [
        " with open(\"data.pickle\", \"rb\") as f:\n",
        "      words, labels, training, output = pickle.load(f)"
      ],
      "execution_count": null,
      "outputs": []
    },
    {
      "cell_type": "markdown",
      "metadata": {
        "id": "Xb8DY97hTgv-",
        "colab_type": "text"
      },
      "source": [
        "skip the below step if the model is trianed already"
      ]
    },
    {
      "cell_type": "code",
      "metadata": {
        "id": "mukNYTQLS7T_",
        "colab_type": "code",
        "colab": {
          "base_uri": "https://localhost:8080/",
          "height": 121
        },
        "outputId": "4a252dfe-18a0-4fac-dddb-6124334f01fe"
      },
      "source": [
        "tensorflow.reset_default_graph()\n",
        "\n",
        "net = tflearn.input_data(shape=[None, len(training[0])])\n",
        "net = tflearn.fully_connected(net, 8)\n",
        "net = tflearn.fully_connected(net, 8)\n",
        "net = tflearn.fully_connected(net, len(output[0]), activation=\"softmax\")\n",
        "net = tflearn.regression(net)\n",
        "\n",
        "model = tflearn.DNN(net)\n",
        "#remove try block if there are any changes to intents.json file and indent properly\n",
        "\n",
        "model.fit(training, output, n_epoch=2000, batch_size=8, show_metric=True)\n",
        "model.save(\"model.tflearn\")"
      ],
      "execution_count": null,
      "outputs": [
        {
          "output_type": "stream",
          "text": [
            "Training Step: 7999  | total loss: \u001b[1m\u001b[32m0.05807\u001b[0m\u001b[0m | time: 0.015s\n",
            "| Adam | epoch: 2000 | loss: 0.05807 - acc: 0.9977 -- iter: 24/28\n",
            "Training Step: 8000  | total loss: \u001b[1m\u001b[32m0.05651\u001b[0m\u001b[0m | time: 0.019s\n",
            "| Adam | epoch: 2000 | loss: 0.05651 - acc: 0.9979 -- iter: 28/28\n",
            "--\n",
            "INFO:tensorflow:/content/model.tflearn is not in all_model_checkpoint_paths. Manually adding it.\n"
          ],
          "name": "stdout"
        }
      ]
    },
    {
      "cell_type": "markdown",
      "metadata": {
        "id": "u0CrDFCdUQSs",
        "colab_type": "text"
      },
      "source": [
        "use the below step to avoid training again"
      ]
    },
    {
      "cell_type": "code",
      "metadata": {
        "id": "ob-DQPH-TAw1",
        "colab_type": "code",
        "colab": {
          "base_uri": "https://localhost:8080/",
          "height": 35
        },
        "outputId": "0947a57e-0825-4811-bafb-5e9d550c5304"
      },
      "source": [
        " model.load(\"model.tflearn\")"
      ],
      "execution_count": null,
      "outputs": [
        {
          "output_type": "stream",
          "text": [
            "INFO:tensorflow:Restoring parameters from /content/model.tflearn\n"
          ],
          "name": "stdout"
        }
      ]
    },
    {
      "cell_type": "code",
      "metadata": {
        "id": "o_63DHK8TdZd",
        "colab_type": "code",
        "colab": {
          "base_uri": "https://localhost:8080/",
          "height": 433
        },
        "outputId": "4e4fbf83-e108-421e-9f50-32ece419b39a"
      },
      "source": [
        "def bag_of_words(s, words):\n",
        "    bag = [0 for _ in range(len(words))]\n",
        "\n",
        "    s_words = nltk.word_tokenize(s)\n",
        "    s_words = [stemmer.stem(word.lower()) for word in s_words]\n",
        "\n",
        "    for se in s_words:\n",
        "        for i, w in enumerate(words):\n",
        "            if w == se:\n",
        "                bag[i] = 1\n",
        "            \n",
        "    return numpy.array(bag)\n",
        "\n",
        "\n",
        "def chat():\n",
        "    print(\"Start talking with the bot (type quit to stop)!\")\n",
        "    while True:\n",
        "        inp = input(\"You: \")\n",
        "        if inp.lower() == \"quit\":\n",
        "            break\n",
        "\n",
        "        results = model.predict([bag_of_words(inp, words)])\n",
        "        results_index = numpy.argmax(results)\n",
        "        tag = labels[results_index]\n",
        "\n",
        "        for tg in data[\"intents\"]:\n",
        "            if tg['tag'] == tag:\n",
        "                responses = tg['responses']\n",
        "\n",
        "        print(random.choice(responses))\n",
        "\n",
        "chat()"
      ],
      "execution_count": null,
      "outputs": [
        {
          "output_type": "stream",
          "text": [
            "Start talking with the bot (type quit to stop)!\n",
            "You: that is so huge\n",
            "Cookies are on the menu!\n",
            "You: it is so big\n",
            "Cookies are on the menu!\n",
            "You: big it is\n",
            "that's what she said\n",
            "You: that is so big\n",
            "Cookies are on the menu!\n",
            "You: sooo hugeeee\n",
            "Cookies are on the menu!\n",
            "You: it is so big\n",
            "that's what she said\n",
            "You: whats your name\n",
            "I'm sandeep!\n",
            "You: name of yours bitch\n",
            "I'm sandeep aka sandy.\n",
            "You: shut th\n",
            "Hello!\n",
            "You: well well well\n",
            "Hi there, how can I help?\n",
            "You: go quit\n",
            "Good to see you again!\n",
            "You: quit\n"
          ],
          "name": "stdout"
        }
      ]
    }
  ]
}